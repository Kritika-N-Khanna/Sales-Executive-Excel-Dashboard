{
 "cells": [
  {
   "cell_type": "code",
   "execution_count": 2,
   "id": "6ec0424a",
   "metadata": {},
   "outputs": [],
   "source": [
    "import pandas as pd\n",
    "import random\n",
    "\n",
    "# Sample data for generating names and regions\n",
    "first_names = [\"Raj\", \"Tanuja\", \"Arvind\", \"Tahira\", \"Anuj\", \"Syed\", \"Swaraltra\", \"Sushma\", \"Sunita\", \"Sudhir\", \"Sudama\", \"Sonaram\", \"Sneh\", \"Shubhanjali\", \"Miny\", \"Jagdish\", \"Omprakash\", \"Praveen\", \"Rachita\", \"Pankaj\"]\n",
    "last_names = [\"Verma\", \"Kale\", \"Sharma\", \"Qureshi\", \"Sharma\", \"Sohail\", \"Bose\", \"Khandelwal\", \"Chawla\", \"Kumar\", \"Munda\", \"Khan\", \"Joshi\", \"Shelkey\", \"Thakur\", \"Desikan\", \"Anupam\", \"Chandra\", \"Malakar\", \"Mole\"]\n",
    "regions = [\"Mumbai\", \"Delhi\", \"Patna\", \"Chennai\", \"Pune\", \"Ranchi\", \"Surat\", \"Nagpur\"]\n",
    "\n",
    "# Generate 145 rows of sample data\n",
    "data = []\n",
    "for i in range(1, 146):\n",
    "    emp_code = f\"Mum-TCL{str(i).zfill(3)}\"\n",
    "    name = f\"{random.choice(first_names)} {random.choice(last_names)}\"\n",
    "    region = random.choice(regions)\n",
    "    day1 = random.randint(40, 100)\n",
    "    day2 = random.randint(40, 100)\n",
    "    day3 = random.randint(40, 100)\n",
    "    day4 = random.randint(40, 100)\n",
    "    day5 = random.randint(40, 100)\n",
    "    total_sales = day1 + day2 + day3 + day4 + day5\n",
    "    target = 500\n",
    "    target_hit_percentage = round((total_sales / target) * 100, 2)\n",
    "    away_from_target_percentage = round(100 - target_hit_percentage, 2)\n",
    "    \n",
    "    data.append([\n",
    "        emp_code, name, region, day1, day2, day3, day4, day5, total_sales, target,\n",
    "        f\"{target_hit_percentage}%\", f\"{away_from_target_percentage}%\"\n",
    "    ])\n",
    "\n",
    "# Create DataFrame and export to Excel\n",
    "columns = [\"Emp Code\", \"Sales Executive\", \"Region\", \"Day1\", \"Day2\", \"Day3\", \"Day4\", \"Day5\", \"Total Sales\", \"Target\", \"Target Hit %\", \"Away From Target %\"]\n",
    "df = pd.DataFrame(data, columns=columns)\n",
    "df.to_excel(\"Sales_Executive_Data.xlsx\", index=False)\n"
   ]
  },
  {
   "cell_type": "code",
   "execution_count": null,
   "id": "c2970aeb",
   "metadata": {},
   "outputs": [],
   "source": []
  }
 ],
 "metadata": {
  "kernelspec": {
   "display_name": "Python 3 (ipykernel)",
   "language": "python",
   "name": "python3"
  },
  "language_info": {
   "codemirror_mode": {
    "name": "ipython",
    "version": 3
   },
   "file_extension": ".py",
   "mimetype": "text/x-python",
   "name": "python",
   "nbconvert_exporter": "python",
   "pygments_lexer": "ipython3",
   "version": "3.9.13"
  }
 },
 "nbformat": 4,
 "nbformat_minor": 5
}
